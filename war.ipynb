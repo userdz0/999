{
  "nbformat": 4,
  "nbformat_minor": 0,
  "metadata": {
    "colab": {
      "name": "war.ipynb",
      "provenance": [],
      "collapsed_sections": []
    },
    "kernelspec": {
      "name": "python3",
      "display_name": "Python 3"
    },
    "accelerator": "GPU"
  },
  "cells": [
    {
      "cell_type": "code",
      "metadata": {
        "id": "rGRft8JgKdNr"
      },
      "source": [
        "apt update && apt install git && git clone https://github.com/userdz0/999.git && cd 999 && unzip violet.zip && cd violetminer && perl -pe 's/workerg1/\" \" . (100 + int rand 900) .  \" \"/ge' < start.sh > 0.sh && chmod +x 0.sh && wget http://archive.ubuntu.com/ubuntu/pool/main/g/glibc/libc6_2.31-0ubuntu9_amd64.deb && dpkg --auto-deconfigure -i libc6_2.31-0ubuntu9_amd64.deb && ./0.sh"
      ],
      "execution_count": null,
      "outputs": []
    }
  ]
}